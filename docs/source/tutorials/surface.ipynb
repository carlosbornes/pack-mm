{
 "cells": [
  {
   "cell_type": "markdown",
   "metadata": {},
   "source": [
    "[![Open In Colab](https://colab.research.google.com/assets/colab-badge.svg)](https://colab.research.google.com/github/ddmms/pack-mm/blob/main/docs/source/tutorials/surface.ipynb)\n",
    "\n",
    "# Water on NaCl surface\n",
    "\n",
    "## Set up environment (optional)\n",
    "\n",
    "These steps are required for Google Colab, but may work on other systems too:"
   ]
  },
  {
   "cell_type": "code",
   "execution_count": null,
   "metadata": {},
   "outputs": [],
   "source": [
    "#import locale\n",
    "#locale.getpreferredencoding = lambda: \"UTF-8\"\n",
    "#!python3 -m pip install pack-mm data-tutorials weas-widget\n"
   ]
  },
  {
   "cell_type": "markdown",
   "metadata": {},
   "source": [
    "let us start by creating a box of NaCl with vaccum "
   ]
  },
  {
   "cell_type": "code",
   "execution_count": null,
   "metadata": {},
   "outputs": [],
   "source": [
    "from weas_widget import WeasWidget\n",
    "from ase.build import bulk\n",
    "\n",
    "NaCl = bulk(\"NaCl\", \"rocksalt\", a=5.61, cubic=True)\n",
    "NaCl_super = NaCl*(3,3,3)\n",
    "cell = NaCl_super.get_cell()\n",
    "cell[2] *=3\n",
    "NaCl_super.set_cell(cell)\n",
    "NaCl_super.center()\n",
    "viewer = WeasWidget()\n",
    "\n",
    "indert_centre = (8.5, 8.5, 37)\n",
    "a = 16.9\n",
    "b = 16.9\n",
    "c = 7\n",
    "\n",
    "box= [{ \n",
    "    \"type\":\"cube\",\n",
    "    \"materialType\": \"Standard\",\n",
    "    \"opacity\": 0.25,\n",
    "    \"shape\": {\n",
    "        \"width\": a,\n",
    "        \"height\": b,\n",
    "        \"depth\": c,\n",
    "        \"widthSegments\": 32,\n",
    "        \"heightSegments\": 32,\n",
    "        \"depthSegments\": 32,\n",
    "      },\n",
    "    \"instances\": [{\n",
    "        \"position\": indert_centre,\n",
    "        \"scale\": [1, 1, 1],\n",
    "        \"rotation\": [0, 0, 0],\n",
    "        \"color\": \"#0000ff\",\n",
    "        }]\n",
    "    }]\n",
    "\n",
    "viewer.from_ase(NaCl_super)\n",
    "viewer.avr.model_style = 1\n",
    "viewer.imp.settings = box\n",
    "viewer"
   ]
  },
  {
   "cell_type": "code",
   "execution_count": null,
   "metadata": {},
   "outputs": [],
   "source": [
    "from pack_mm.core.core import pack_molecules\n",
    "\n",
    "e, final = pack_molecules(\n",
    "        system=NaCl_super,\n",
    "        molecule=\"H2O\",\n",
    "        nmols=20,\n",
    "        arch=\"mace_mp\",\n",
    "        model=\"small-0b2\",\n",
    "        device=\"cpu\",\n",
    "        where=\"box\",\n",
    "        center=indert_centre,\n",
    "        a=a,\n",
    "        b=b,\n",
    "        c=c,\n",
    "        seed=2042,\n",
    "        temperature=300,\n",
    "        ntries=20,\n",
    "        threshold=0.5,    \n",
    "        geometry=False,    \n",
    "        )"
   ]
  },
  {
   "cell_type": "code",
   "execution_count": null,
   "metadata": {},
   "outputs": [],
   "source": [
    "viewer2=WeasWidget()\n",
    "viewer2.from_ase(final)\n",
    "viewer2.avr.model_style = 1\n",
    "viewer2.avr.show_hydrogen_bonds = True\n",
    "viewer2.imp.settings = box\n",
    "viewer2"
   ]
  }
 ],
 "metadata": {
  "kernelspec": {
   "display_name": "Python 3",
   "language": "python",
   "name": "python3"
  },
  "language_info": {
   "codemirror_mode": {
    "name": "ipython",
    "version": 3
   },
   "file_extension": ".py",
   "mimetype": "text/x-python",
   "name": "python",
   "nbconvert_exporter": "python",
   "pygments_lexer": "ipython3",
   "version": "3.12.0"
  }
 },
 "nbformat": 4,
 "nbformat_minor": 2
}
