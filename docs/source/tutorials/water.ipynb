{
 "cells": [
  {
   "cell_type": "markdown",
   "metadata": {},
   "source": [
    "[![Open In Colab](https://colab.research.google.com/assets/colab-badge.svg)](https://colab.research.google.com/github/ddmms/pack-mm/blob/main/docs/source/tutorials/water.ipynb)\n",
    "\n",
    "# Bulk Water \n",
    "\n",
    "## Set up environment (optional)\n",
    "\n",
    "These steps are required for Google Colab, but may work on other systems too:"
   ]
  },
  {
   "cell_type": "code",
   "execution_count": null,
   "metadata": {},
   "outputs": [],
   "source": [
    "#import locale\n",
    "#locale.getpreferredencoding = lambda: \"UTF-8\"\n",
    "#!python3 -m pip install pack-mm data-tutorials weas-widget\n"
   ]
  },
  {
   "cell_type": "markdown",
   "metadata": {},
   "source": [
    "Let us start by creating a small box of water 10 A in size, for normal density that means 33 water molecules."
   ]
  },
  {
   "cell_type": "code",
   "execution_count": null,
   "metadata": {},
   "outputs": [],
   "source": [
    "from pack_mm.core.core import pack_molecules\n",
    "from weas_widget import WeasWidget\n",
    "\n",
    "\n",
    "e, final = pack_molecules(\n",
    "        molecule=\"H2O\",\n",
    "        nmols=33,\n",
    "        arch=\"mace_mp\",\n",
    "        model=\"small-0b2\",\n",
    "        device=\"cpu\",\n",
    "        where=\"anywhere\",\n",
    "        cell_a=10,\n",
    "        cell_b=10,\n",
    "        cell_c=10,\n",
    "        seed=2025,\n",
    "        temperature=300,\n",
    "        ntries=20,\n",
    "        geometry=True,    \n",
    "        threshold=0.5,    \n",
    "        )"
   ]
  },
  {
   "cell_type": "code",
   "execution_count": null,
   "metadata": {},
   "outputs": [],
   "source": [
    "viewer=WeasWidget()\n",
    "viewer.from_ase(final)\n",
    "viewer.avr.model_style = 1\n",
    "viewer.avr.show_hydrogen_bonds = True\n",
    "viewer"
   ]
  },
  {
   "cell_type": "code",
   "execution_count": null,
   "metadata": {},
   "outputs": [],
   "source": [
    "m = sum(final.get_masses())*1.660538921*10**(-24)\n",
    "V = final.get_volume()*10**(-24)\n",
    "rho = m/V\n",
    "print(final.cell.cellpar())\n",
    "print(f\"Mass: {m:.3e} g\")\n",
    "print(f\"Volume: {V:.3e} cm^3\")\n",
    "print(f\"Density: {rho:.2f} g/cm^3\")"
   ]
  }
 ],
 "metadata": {
  "kernelspec": {
   "display_name": "janus",
   "language": "python",
   "name": "python3"
  },
  "language_info": {
   "codemirror_mode": {
    "name": "ipython",
    "version": 3
   },
   "file_extension": ".py",
   "mimetype": "text/x-python",
   "name": "python",
   "nbconvert_exporter": "python",
   "pygments_lexer": "ipython3",
   "version": "3.12.0"
  }
 },
 "nbformat": 4,
 "nbformat_minor": 2
}
