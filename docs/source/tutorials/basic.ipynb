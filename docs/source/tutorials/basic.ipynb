{
 "cells": [
  {
   "cell_type": "markdown",
   "metadata": {},
   "source": [
    "[![Open In Colab](https://colab.research.google.com/assets/colab-badge.svg)](https://colab.research.google.com/github/ddmms/pack-mm/blob/main/docs/source/tutorials/basic.ipynb)\n",
    "\n",
    "# Simple example\n",
    "\n",
    "## Set up environment (optional)\n",
    "\n",
    "These steps are required for Google Colab, but may work on other systems too:"
   ]
  },
  {
   "cell_type": "code",
   "execution_count": null,
   "metadata": {},
   "outputs": [],
   "source": [
    "#import locale\n",
    "#locale.getpreferredencoding = lambda: \"UTF-8\"\n",
    "#!python3 -m pip install pack-mm data-tutorials weas-widget\n"
   ]
  },
  {
   "cell_type": "markdown",
   "metadata": {},
   "source": [
    "download the data needed for the tutorial."
   ]
  },
  {
   "cell_type": "code",
   "execution_count": null,
   "metadata": {},
   "outputs": [],
   "source": [
    "from data_tutorials.data import get_data\n",
    "\n",
    "get_data(\n",
    "    url=\"https://raw.githubusercontent.com/ddmms/pack-mm/main/examples/data/\",\n",
    "    filename=[\"UiO-66.cif\", \"MFI.cif\"],\n",
    "    folder=\"data\",\n",
    ")"
   ]
  },
  {
   "cell_type": "markdown",
   "metadata": {},
   "source": [
    "Let us start by adding few water molecules in a MoF, UiO66. We read it using ase and visualising with weas widget"
   ]
  },
  {
   "cell_type": "code",
   "execution_count": null,
   "metadata": {},
   "outputs": [],
   "source": [
    "from weas_widget import WeasWidget\n",
    "from ase.io import read\n",
    "viewer = WeasWidget()\n",
    "\n",
    "mof = read(\"data/UiO-66.cif\")\n",
    "\n",
    "insert_centre = (10,10,10)\n",
    "radius = 5.0\n",
    "sphere = [{\n",
    "    \"type\":\"sphere\",\n",
    "    \"materialType\": \"Standard\",\n",
    "    \"opacity\": 0.25,\n",
    "    \"shape\":{ \n",
    "        \"radius\": radius,\n",
    "        \"widthSegments\": 32,\n",
    "        \"heightSegments\": 32,\n",
    "        },\n",
    "    \"instances\": [{\n",
    "        \"position\": insert_centre,   \n",
    "        \"scale\": [1, 1, 1],\n",
    "    \n",
    "        }]\n",
    "    }]\n",
    "viewer.from_ase(mof)\n",
    "viewer.imp.settings = sphere\n",
    "viewer.avr.model_style = 1\n",
    "viewer.avr.show_hydrogen_bonds = True\n",
    "viewer\n"
   ]
  },
  {
   "cell_type": "markdown",
   "metadata": {},
   "source": [
    "to add the molecules we use, pack_molecules function from pack-mm package. We add 10 water molecules in a sphere of radius 5A centered at 10,10,10. By default intermediary configureations are saved into the current folder, you can change location by using out_path parameter. The function itself returns the energy and an Atoms object with the final system."
   ]
  },
  {
   "cell_type": "code",
   "execution_count": null,
   "metadata": {},
   "outputs": [],
   "source": [
    "from pack_mm.core.core import pack_molecules\n",
    "\n",
    "e, final = pack_molecules(\n",
    "        system=mof,\n",
    "        molecule=\"H2O\",\n",
    "        nmols=10,\n",
    "        arch=\"mace_mp\",\n",
    "        model=\"small-0b2\",\n",
    "        device=\"cpu\",\n",
    "        where=\"sphere\",\n",
    "        center=insert_centre,\n",
    "        radius=radius,\n",
    "        seed=2042,\n",
    "        temperature=300,\n",
    "        ntries=20,\n",
    "        geometry=False,    \n",
    "        threshold=0.5,    \n",
    "       )\n"
   ]
  },
  {
   "cell_type": "markdown",
   "metadata": {},
   "source": [
    "visualise the final configurations."
   ]
  },
  {
   "cell_type": "code",
   "execution_count": null,
   "metadata": {},
   "outputs": [],
   "source": [
    "viewer2 = WeasWidget()\n",
    "viewer2.from_ase(final)\n",
    "viewer2.avr.model_style = 1\n",
    "viewer2.imp.settings = sphere\n",
    "viewer2.avr.show_hydrogen_bonds = True\n",
    "viewer2"
   ]
  },
  {
   "cell_type": "markdown",
   "metadata": {},
   "source": [
    "adding water in a cylindrical channel in a zeolite."
   ]
  },
  {
   "cell_type": "code",
   "execution_count": null,
   "metadata": {},
   "outputs": [],
   "source": [
    "zeo = read(\"data/MFI.cif\")\n",
    "insert_centre = (10,10,13)\n",
    "radius = 3.0\n",
    "height = 19\n",
    "\n",
    "cylinder= [{ \n",
    "    \"type\":\"cylinder\",\n",
    "    \"materialType\": \"Standard\",\n",
    "    \"opacity\": 0.5,\n",
    "    \"shape\": {\n",
    "        \"radiusTop\": radius,\n",
    "        \"radiusBottom\": radius,\n",
    "        \"height\": height,\n",
    "        \"radialSegments\": 32,\n",
    "        \"heightSegments\": 32,\n",
    "        \"openEnded\": False, \n",
    "      },\n",
    "    \"instances\": [{\n",
    "        \"position\": insert_centre,\n",
    "        \"scale\": [1, 1, 1],\n",
    "        \"rotation\": [0, 0, 0],\n",
    "        }]\n",
    "    }]\n",
    "\n",
    "viewer3 = WeasWidget()\n",
    "viewer3.from_ase(zeo)\n",
    "viewer3.avr.model_style = 1\n",
    "viewer3.imp.settings = cylinder\n",
    "viewer3.avr.show_hydrogen_bonds = True\n",
    "viewer3"
   ]
  },
  {
   "cell_type": "code",
   "execution_count": null,
   "metadata": {},
   "outputs": [],
   "source": [
    "e, final = pack_molecules(\n",
    "        system=zeo,\n",
    "        molecule=\"H2O\",\n",
    "        nmols=20,\n",
    "        arch=\"mace_mp\",\n",
    "        model=\"small-0b2\",\n",
    "        device=\"cpu\",\n",
    "        where=\"cylinderY\",\n",
    "        center=insert_centre,\n",
    "        radius=radius,\n",
    "        height=height,\n",
    "        seed=2042,\n",
    "        temperature=300,\n",
    "        ntries=20,\n",
    "        geometry=False,    \n",
    "        threshold=0.5,    \n",
    "        )"
   ]
  },
  {
   "cell_type": "code",
   "execution_count": null,
   "metadata": {},
   "outputs": [],
   "source": [
    "viewer4 = WeasWidget()\n",
    "viewer4.from_ase(final)\n",
    "viewer4.avr.model_style = 1\n",
    "viewer4.imp.settings = cylinder\n",
    "viewer4.avr.show_hydrogen_bonds = True\n",
    "viewer4"
   ]
  }
 ],
 "metadata": {
  "kernelspec": {
   "display_name": "Python 3",
   "language": "python",
   "name": "python3"
  },
  "language_info": {
   "codemirror_mode": {
    "name": "ipython",
    "version": 3
   },
   "file_extension": ".py",
   "mimetype": "text/x-python",
   "name": "python",
   "nbconvert_exporter": "python",
   "pygments_lexer": "ipython3",
   "version": "3.12.0"
  }
 },
 "nbformat": 4,
 "nbformat_minor": 2
}
