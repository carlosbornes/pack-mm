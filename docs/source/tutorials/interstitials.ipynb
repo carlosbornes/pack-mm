{
 "cells": [
  {
   "cell_type": "markdown",
   "metadata": {},
   "source": [
    "[![Open In Colab](https://colab.research.google.com/assets/colab-badge.svg)](https://colab.research.google.com/github/ddmms/pack-mm/blob/main/docs/source/tutorials/interstitials.ipynb)\n",
    "\n",
    "# H2 in a Pd crystal\n",
    "\n",
    "## Set up environment (optional)\n",
    "\n",
    "These steps are required for Google Colab, but may work on other systems too:"
   ]
  },
  {
   "cell_type": "code",
   "execution_count": null,
   "metadata": {},
   "outputs": [],
   "source": [
    "#import locale\n",
    "#locale.getpreferredencoding = lambda: \"UTF-8\"\n",
    "#!python3 -m pip install pack-mm data-tutorials weas-widget\n"
   ]
  },
  {
   "cell_type": "markdown",
   "metadata": {},
   "source": [
    "Let us start by creating a Pd supercell, 4,4,4."
   ]
  },
  {
   "cell_type": "code",
   "execution_count": null,
   "metadata": {},
   "outputs": [],
   "source": [
    "from weas_widget import WeasWidget\n",
    "from ase.build import bulk\n",
    "\n",
    "Pd = bulk('Pd', 'fcc', a=3.89, cubic=True)*(4,4,4)\n",
    "\n",
    "viewer=WeasWidget()\n",
    "viewer.from_ase(Pd)\n",
    "viewer.avr.model_style = 1\n",
    "viewer"
   ]
  },
  {
   "cell_type": "markdown",
   "metadata": {},
   "source": [
    "now insert 32 H2 molecules anywhere."
   ]
  },
  {
   "cell_type": "code",
   "execution_count": null,
   "metadata": {},
   "outputs": [],
   "source": [
    "from pack_mm.core.core import pack_molecules\n",
    "\n",
    "\n",
    "e, final = pack_molecules(\n",
    "        system=Pd,\n",
    "        molecule=\"H2\",\n",
    "        nmols=32,\n",
    "        arch=\"mace_mp\",\n",
    "        model=\"small-0b2\",\n",
    "        device=\"cpu\",\n",
    "        where=\"anywhere\",\n",
    "        seed=2025,\n",
    "        temperature=300,\n",
    "        ntries=20,\n",
    "        geometry=True,    \n",
    "        threshold=0.5,    \n",
    "        )"
   ]
  },
  {
   "cell_type": "code",
   "execution_count": null,
   "metadata": {},
   "outputs": [],
   "source": [
    "viewer2=WeasWidget()\n",
    "viewer2.from_ase(final)\n",
    "viewer2.avr.model_style = 1\n",
    "viewer2"
   ]
  },
  {
   "cell_type": "code",
   "execution_count": null,
   "metadata": {},
   "outputs": [],
   "source": []
  }
 ],
 "metadata": {
  "kernelspec": {
   "display_name": "janus",
   "language": "python",
   "name": "python3"
  },
  "language_info": {
   "codemirror_mode": {
    "name": "ipython",
    "version": 3
   },
   "file_extension": ".py",
   "mimetype": "text/x-python",
   "name": "python",
   "nbconvert_exporter": "python",
   "pygments_lexer": "ipython3",
   "version": "3.12.0"
  }
 },
 "nbformat": 4,
 "nbformat_minor": 2
}
