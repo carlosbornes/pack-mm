{
 "cells": [
  {
   "cell_type": "markdown",
   "metadata": {},
   "source": [
    "[![Open In Colab](https://colab.research.google.com/assets/colab-badge.svg)](https://colab.research.google.com/github/ddmms/pack-mm/blob/main/docs/source/tutorials/mof.ipynb)\n",
    "\n",
    "# MOF+ethanol+water\n",
    "\n",
    "## Set up environment (optional)\n",
    "\n",
    "These steps are required for Google Colab, but may work on other systems too:"
   ]
  },
  {
   "cell_type": "code",
   "execution_count": null,
   "metadata": {},
   "outputs": [],
   "source": [
    "#import locale\n",
    "#locale.getpreferredencoding = lambda: \"UTF-8\"\n",
    "#!python3 -m pip install pack-mm data-tutorials weas-widget\n"
   ]
  },
  {
   "cell_type": "markdown",
   "metadata": {},
   "source": [
    "download the data needed for the tutorial."
   ]
  },
  {
   "cell_type": "code",
   "execution_count": null,
   "metadata": {},
   "outputs": [],
   "source": [
    "from data_tutorials.data import get_data\n",
    "\n",
    "get_data(\n",
    "    url=\"https://raw.githubusercontent.com/ddmms/pack-mm/main/examples/data/\",\n",
    "    filename=[\"Cu2L.cif\"],\n",
    "    folder=\"data\",\n",
    ")"
   ]
  },
  {
   "cell_type": "markdown",
   "metadata": {},
   "source": [
    "Let us start by adding few water molecules in a MoF, UiO66. We read it using ase and visualising with weas widget"
   ]
  },
  {
   "cell_type": "code",
   "execution_count": null,
   "metadata": {},
   "outputs": [],
   "source": [
    "from weas_widget import WeasWidget\n",
    "from ase.io import read\n",
    "viewer = WeasWidget()\n",
    "\n",
    "mof = read(\"data/Cu2L.cif\")\n",
    "insert_centre = (5.18,8.15,25.25)\n",
    "radius = 1.0\n",
    "\n",
    "sphere = [{\n",
    "    \"type\":\"sphere\",\n",
    "    \"materialType\": \"Standard\",\n",
    "    \"opacity\": 0.25,\n",
    "    \"shape\":{ \n",
    "        \"radius\": radius,\n",
    "        \"radiusSegments\": 32,\n",
    "        },\n",
    "    \"instances\": [{\n",
    "        \"position\": insert_centre,   \n",
    "        \"scale\": [1, 1, 1],\n",
    "    \n",
    "        }]\n",
    "    }]\n",
    "\n",
    "viewer.from_ase(mof)\n",
    "viewer.avr.model_style = 1\n",
    "viewer.avr.show_hydrogen_bonds = True\n",
    "viewer.imp.settings = sphere  \n",
    "viewer"
   ]
  },
  {
   "cell_type": "markdown",
   "metadata": {},
   "source": [
    "we start by adding an ethanol molecule in the ellipsoidal pocket, we use a sphere to control the insertion"
   ]
  },
  {
   "cell_type": "code",
   "execution_count": null,
   "metadata": {},
   "outputs": [],
   "source": [
    "from pack_mm.core.core import pack_molecules\n",
    "\n",
    "e, mofEthanol = pack_molecules(\n",
    "        system=mof,\n",
    "        molecule=\"CH3CH2OH\",\n",
    "        nmols=1,\n",
    "        arch=\"mace_mp\",\n",
    "        model=\"small-0b2\",\n",
    "        device=\"cpu\",\n",
    "        where=\"sphere\",\n",
    "        center=insert_centre,\n",
    "        radius=radius,\n",
    "        seed=2042,\n",
    "        temperature=300,\n",
    "        ntries=20,\n",
    "        geometry=False,    \n",
    "        threshold=0.5,    \n",
    "        )"
   ]
  },
  {
   "cell_type": "markdown",
   "metadata": {},
   "source": [
    "visualise the final configurations."
   ]
  },
  {
   "cell_type": "code",
   "execution_count": null,
   "metadata": {},
   "outputs": [],
   "source": [
    "viewer2 = WeasWidget()\n",
    "viewer2.from_ase(mofEthanol)\n",
    "viewer2.avr.model_style = 1\n",
    "viewer2.avr.show_hydrogen_bonds = True\n",
    "viewer2"
   ]
  },
  {
   "cell_type": "code",
   "execution_count": null,
   "metadata": {},
   "outputs": [],
   "source": [
    "insert_centre = (5.18,8.15,25.25)\n",
    "a = 5.00\n",
    "b = 8\n",
    "c = 6\n",
    "radius = a\n",
    "\n",
    "ellipsoid = [{\n",
    "    \"type\":\"sphere\",\n",
    "    \"materialType\": \"Standard\",\n",
    "    \"opacity\": 0.25,\n",
    "    \"shape\":{ \n",
    "        \"radius\": radius,\n",
    "        \"radiusSegments\": 32,\n",
    "        },\n",
    "    \"instances\": [{\n",
    "        \"position\": insert_centre,   \n",
    "        \"scale\": [1, b/a, c/a],\n",
    "    \n",
    "        }]\n",
    "    }]\n",
    "viewer2.imp.settings = ellipsoid\n",
    "viewer2  \n"
   ]
  },
  {
   "cell_type": "markdown",
   "metadata": {},
   "source": [
    "adding water in the ellipsoid channel of the mof."
   ]
  },
  {
   "cell_type": "code",
   "execution_count": null,
   "metadata": {},
   "outputs": [],
   "source": [
    "e, final = pack_molecules(\n",
    "        system= mofEthanol,\n",
    "        molecule=\"H2O\",\n",
    "        nmols=20,\n",
    "        arch=\"mace_mp\",\n",
    "        model=\"small-0b2\",\n",
    "        device=\"cpu\",\n",
    "        where=\"ellipsoid\",\n",
    "        center=insert_centre,\n",
    "        a=a,\n",
    "        b=b,\n",
    "        c=c,\n",
    "        seed=2042,\n",
    "        temperature=300,\n",
    "        ntries=20,\n",
    "        geometry=False,    \n",
    "        threshold=0.5,    \n",
    "        )"
   ]
  },
  {
   "cell_type": "code",
   "execution_count": null,
   "metadata": {},
   "outputs": [],
   "source": [
    "viewer3 = WeasWidget()\n",
    "viewer3.from_ase(final)\n",
    "viewer3.avr.model_style = 1\n",
    "viewer3.avr.show_hydrogen_bonds = True\n",
    "viewer3.imp.settings = ellipsoid\n",
    "viewer3"
   ]
  },
  {
   "cell_type": "code",
   "execution_count": null,
   "metadata": {},
   "outputs": [],
   "source": []
  }
 ],
 "metadata": {
  "kernelspec": {
   "display_name": "Python 3",
   "language": "python",
   "name": "python3"
  },
  "language_info": {
   "codemirror_mode": {
    "name": "ipython",
    "version": 3
   },
   "file_extension": ".py",
   "mimetype": "text/x-python",
   "name": "python",
   "nbconvert_exporter": "python",
   "pygments_lexer": "ipython3",
   "version": "3.12.0"
  }
 },
 "nbformat": 4,
 "nbformat_minor": 2
}
